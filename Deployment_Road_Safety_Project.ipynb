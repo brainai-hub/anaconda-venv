{
 "cells": [
  {
   "cell_type": "markdown",
   "metadata": {
    "id": "pSONm77js1RW"
   },
   "source": [
    "## AI Road Safety Project"
   ]
  },
  {
   "cell_type": "raw",
   "metadata": {
    "id": "csXK-q0Wsvj9"
   },
   "source": [
    "0. Problem Scoping(문제 정의): 프로젝트 개발 목표 설정\r",
    "- 차량이 고속으로 달리는 고속도로에서는 포트홀로 인해 대형사고가 발생할 위험이 매우 크다. 포트홀이 발생하지 않도록 아스파트 설계방법에 대한 근본적인 연구뿐만 아니라 포트홀을 제대로 관리하여 국민안전이 위협받지 않도록 AI기술을 활용하고자 \n",
    "- 4Ws Problem Canvas\r\n",
    "  - Who: 고속 도로 운전자, 고속 도로 리 기관관\r\n",
    "  - What: 갑작스런 포트홀 발견 시 급제동하거나 급하게 차선을 변경하려다 대고가 일어날 수 있음있음\r\n",
    "  - Where/When: 비가 많이 내린 후 교통량이 많은 도로에서 주로 발행, 도로가 미끄럽고 시보가   *어려움\r\n",
    "  - Why: 포트홀 발생 지역의 실시간 업데이트 자료로 안전 운전에 도움, 포트홀 발생 지역에 대한 통계 자료를 기초책 \r\n",
    "\r\n",
    "\r\n",
    "\n",
    " \n",
    "1. Data Acquisition(데이터 획득): 문제 해결에 필요한 데이터 획득\n",
    "2. Data Exploration(데이터 탐색): 획득한 데이터 정제, 폴더 관리, 전처리 등(data.yaml 수정하기)\n",
    "3. Modeling(모델링): 모델 구성 수정하기 및 모델 훈련하기\n",
    "4. Evaluation(모델 평가): 다양한 방법으로 모델을 평가하고 최적 모델 선택\n",
    "5. Deployment(배포): 개발 제품 서비스(Gradio, Flask, Streamit 등 활용) 플랫폼에서 테스트"
   ]
  },
  {
   "cell_type": "markdown",
   "metadata": {},
   "source": [
    "### 5. Deployment(배포)\n",
    "개발 제품 서비스(Gradio, Flask, Streamit 등 활용) 플랫폼에서 테스트"
   ]
  },
  {
   "cell_type": "markdown",
   "metadata": {},
   "source": [
    "#### 5.1 배포를 위해 필요한 라이브러리 불러오기\n",
    "개발된 AI Project을 어떤 형태로 서비스 할 것인지를 결정하고 필요한 라이브러리를 불러온다. 여기서는 Gradio를 활용한 것으로 한다."
   ]
  },
  {
   "cell_type": "code",
   "execution_count": 1,
   "metadata": {
    "tags": []
   },
   "outputs": [],
   "source": [
    "#필요 라이브러리 불러오기\n",
    "\n",
    "import openvino as ov\n",
    "import gradio as gr\n",
    "import yaml\n",
    "import numpy as np\n",
    "import cv2"
   ]
  },
  {
   "cell_type": "markdown",
   "metadata": {},
   "source": [
    "#### 5.2 개발한 모델 불러오기\n",
    "모델 평가를 통해 선정한 최적 모델을 불러온다. 모델은 models 폴더에 저장한다."
   ]
  },
  {
   "cell_type": "code",
   "execution_count": 2,
   "metadata": {
    "tags": []
   },
   "outputs": [
    {
     "name": "stdout",
     "output_type": "stream",
     "text": [
      "Input layer shape:  [1,3,640,640]\n",
      "Output layer shape: [1,5,8400]\n"
     ]
    }
   ],
   "source": [
    "# 모델 불러오기\n",
    "core = ov.Core()\n",
    "\n",
    "model = core.read_model(model=\"models/best.xml\")\n",
    "compiled_model = core.compile_model(model=model, device_name=\"CPU\")\n",
    "\n",
    "input_layer = compiled_model.input(0)\n",
    "output_layer = compiled_model.output(0)\n",
    "\n",
    "print(\"Input layer shape: \", input_layer.shape)\n",
    "print(\"Output layer shape:\", output_layer.shape)"
   ]
  },
  {
   "cell_type": "code",
   "execution_count": 3,
   "metadata": {
    "tags": []
   },
   "outputs": [
    {
     "name": "stdout",
     "output_type": "stream",
     "text": [
      "{0: 'pothole'}\n"
     ]
    }
   ],
   "source": [
    "# 레이블 불러오기\n",
    "with open('models/metadata.yaml') as info:\n",
    "      info_dict = yaml.load(info, Loader=yaml.Loader)\n",
    "        \n",
    "labels = info_dict['names']\n",
    "print(labels)"
   ]
  },
  {
   "cell_type": "markdown",
   "metadata": {},
   "source": [
    "#### 5.3 새로운 입력 데이터 Shape 맞추기\n",
    "새로 입력될 데이터의 Shape를 맞추어 주는 함수를 만든다."
   ]
  },
  {
   "cell_type": "code",
   "execution_count": 4,
   "metadata": {
    "tags": []
   },
   "outputs": [],
   "source": [
    "# 새로운 데이터 입력 shape 맞추는 함수\n",
    "def prepare_data(image):\n",
    "    input_w, input_h = 640, 640\n",
    "    input_image = cv2.resize(image, (input_w,input_h))\n",
    "    input_image = cv2.cvtColor(input_image, cv2.COLOR_BGR2RGB)\n",
    "    input_image = input_image/255\n",
    "\n",
    "    input_image = input_image.transpose(2, 0, 1)\n",
    "    input_image = np.expand_dims(input_image, 0)\n",
    "    \n",
    "    return input_image"
   ]
  },
  {
   "cell_type": "markdown",
   "metadata": {},
   "source": [
    "#### 5.4 추론 결과 저장하기\n",
    "새로 입력된 데이터의 추론 한 결과 값을 얻는다."
   ]
  },
  {
   "cell_type": "code",
   "execution_count": 14,
   "metadata": {
    "tags": []
   },
   "outputs": [],
   "source": [
    "# 새로운 이미지 데이터 추론 함수\n",
    "def predict_image(image, conf_threshold):  \n",
    "    input_image = prepare_data(image)\n",
    "    output = compiled_model([input_image])[output_layer]\n",
    "    boxes, scores, label_key = evaluate(output, conf_threshold)\n",
    "    if len(boxes):\n",
    "        nms_output = non_max_suppression(boxes, scores, conf_threshold)\n",
    "        visualize(nms_output, boxes, image, label_key, scores, colors_dict)\n",
    "    return image"
   ]
  },
  {
   "cell_type": "code",
   "execution_count": 15,
   "metadata": {
    "tags": []
   },
   "outputs": [],
   "source": [
    "# 새로운 영상 데이터 추론 함수\n",
    "def predict_video(vid_input, conf_threshold): \n",
    "    colors_dict = create_colors(labels)\n",
    "    video_capture = cv2.VideoCapture(vid_input)\n",
    "    video_capture.set(cv2.CAP_PROP_POS_FRAMES, 0)\n",
    "    fourcc = cv2.VideoWriter_fourcc(*'vp80')\n",
    "    vid_name= 'output.webm'\n",
    "    width_out  = int(video_capture.get(cv2.CAP_PROP_FRAME_WIDTH))\n",
    "    height_out = int(video_capture.get(cv2.CAP_PROP_FRAME_HEIGHT))\n",
    "\n",
    "    out = cv2.VideoWriter(vid_name, fourcc, 20.0, (width_out, height_out))\n",
    "    while(True):\n",
    "        ret, frame = video_capture.read()\n",
    "        if frame is None:\n",
    "            break\n",
    "        input_image = prepare_data(frame)\n",
    "        output = compiled_model([input_image])[output_layer]        \n",
    "        boxes, scores, label_names = evaluate(output, conf_threshold)\n",
    " \n",
    "        if len(boxes):\n",
    "            nms_output = non_max_suppression(boxes, scores, .5)\n",
    "            visualize(nms_output, boxes, frame, label_names, scores, colors_dict)\n",
    "\n",
    "        out.write(frame)\n",
    "        \n",
    "    out.release()\n",
    "    file_path = \"output.webm\"\n",
    "    return file_path"
   ]
  },
  {
   "cell_type": "markdown",
   "metadata": {},
   "source": [
    "#### 5.5 추론 결과 후처리: Post processing with the result of inference\n",
    "- confidence 이상의 바운딩 박스와 레이블 찾기"
   ]
  },
  {
   "cell_type": "code",
   "execution_count": 5,
   "metadata": {
    "tags": []
   },
   "outputs": [],
   "source": [
    "# confidence 이상의 바운딩 박스 찾는 함수\n",
    "def evaluate(output, conf):   \n",
    "    boxes = []\n",
    "    scores = []\n",
    "    label_key = []\n",
    "    label_index = 0\n",
    "    \n",
    "    for class_ in output[0][4:]:      \n",
    "        for index in range (len(class_)):\n",
    "            confidence = class_[index]\n",
    "            \n",
    "            if  confidence > conf:\n",
    "                xcen = output[0][0][index]\n",
    "                ycen = output[0][1][index]\n",
    "                w = output[0][2][index]\n",
    "                h = output[0][3][index]\n",
    "\n",
    "                xmin = int(xcen - (w/2))\n",
    "                xmax = int(xcen + (w/2))\n",
    "                ymin = int(ycen - (h/2))\n",
    "                ymax = int(ycen + (h/2))\n",
    "\n",
    "                box = (xmin, ymin, xmax, ymax)\n",
    "                boxes.append(box)\n",
    "                scores.append(confidence)\n",
    "\n",
    "                label_key.append(label_index)\n",
    "  \n",
    "        label_index += 1 \n",
    "        \n",
    "    boxes = np.array(boxes)\n",
    "    scores = np.array(scores)\n",
    "    \n",
    "    return boxes, scores, label_key"
   ]
  },
  {
   "cell_type": "markdown",
   "metadata": {},
   "source": [
    "- 박스 하나 찾기"
   ]
  },
  {
   "cell_type": "code",
   "execution_count": 16,
   "metadata": {
    "tags": []
   },
   "outputs": [],
   "source": [
    "# 가장 큰 \n",
    "def non_max_suppression(boxes, scores, iou_threshold):\t\n",
    "    assert boxes.shape[0] == scores.shape[0]\n",
    "    ys1 = boxes[:, 0]\n",
    "    xs1 = boxes[:, 1]\n",
    "    ys2 = boxes[:, 2]\n",
    "    xs2 = boxes[:, 3]\n",
    "    areas = (ys2 - ys1) * (xs2 - xs1)\n",
    "  \n",
    "    scores_indexes = scores.argsort().tolist()   \n",
    "    boxes_keep_index = []\n",
    "    \n",
    "    while len(scores_indexes):\n",
    "        index = scores_indexes.pop()\n",
    "        boxes_keep_index.append(index)  \n",
    "        if not len(scores_indexes):\n",
    "            break\n",
    "        ious = compute_iou(boxes[index], boxes[scores_indexes], areas[index], areas[scores_indexes])\n",
    "        filtered_indexes = set((ious > iou_threshold).nonzero()[0])\n",
    "        scores_indexes = [\n",
    "            v for (i, v) in enumerate(scores_indexes)\n",
    "            if i not in filtered_indexes\n",
    "        ]\n",
    "    return np.array(boxes_keep_index)\n",
    "    \n",
    "def compute_iou(box, boxes, box_area, boxes_area):\n",
    "    assert boxes.shape[0] == boxes_area.shape[0]\n",
    "    ys1 = np.maximum(box[0], boxes[:, 0])\n",
    "    xs1 = np.maximum(box[1], boxes[:, 1])\n",
    "    ys2 = np.minimum(box[2], boxes[:, 2])\n",
    "    xs2 = np.minimum(box[3], boxes[:, 3])\n",
    "\n",
    "    intersections = np.maximum(ys2 - ys1, 0) * np.maximum(xs2 - xs1, 0)\n",
    "    unions = box_area + boxes_area - intersections\n",
    "    ious = intersections / unions\n",
    "    return ious"
   ]
  },
  {
   "cell_type": "markdown",
   "metadata": {},
   "source": [
    "- 레이블별 박스 컬러 정하기"
   ]
  },
  {
   "cell_type": "code",
   "execution_count": 17,
   "metadata": {
    "tags": []
   },
   "outputs": [],
   "source": [
    "# 박스 컬러 함수\n",
    "def create_colors(labels):\n",
    "    colors_dict = {}\n",
    "    for i in range(len(labels)):\n",
    "        random_color = list(np.random.randint(0,255, size =3))\n",
    "        random_color = ( int (random_color [ 0 ]), int (random_color [ 1 ]), int (random_color [ 2 ])) \n",
    "        colors_dict[i] = random_color\n",
    "    return colors_dict"
   ]
  },
  {
   "cell_type": "markdown",
   "metadata": {},
   "source": [
    "- 박스 그리기 및 레이블 출력하기"
   ]
  },
  {
   "cell_type": "code",
   "execution_count": 9,
   "metadata": {},
   "outputs": [],
   "source": [
    "# 시각화 함수\n",
    "def visualize(nms_output, boxes, orig_image, label_key,scores, colors_dict ):\n",
    "    orig_h, orig_w, c = orig_image.shape \n",
    "    for i in nms_output:\n",
    "        xmin, ymin, xmax, ymax = boxes[i]\n",
    "        xmin = int(xmin*orig_w/640)\n",
    "        ymin = int(ymin*orig_h/640)\n",
    "        xmax = int(xmax*orig_w/640)\n",
    "        ymax = int(ymax*orig_h/640)\n",
    "        color = colors_dict[label_key[i]]\n",
    "        cv2.rectangle(orig_image, (xmin,ymin), (xmax,ymax), color, 4)   \n",
    "        text = str(int(np.rint(scores[i]*100))) + \"% \" + str(labels[label_key[i]])\n",
    "        cv2.putText(orig_image, text, (xmin+2,ymin-5), cv2.FONT_HERSHEY_SIMPLEX, \n",
    "                   1, (0, 0, 0), 1, cv2.LINE_AA)"
   ]
  },
  {
   "cell_type": "markdown",
   "metadata": {},
   "source": [
    "#### 5.6 Web Deployment with Gradio\n",
    "새로 입력될 데이터의 Shape를 맞추어 주는 함수를 만든다."
   ]
  },
  {
   "cell_type": "code",
   "execution_count": 12,
   "metadata": {
    "tags": []
   },
   "outputs": [],
   "source": [
    "image_iface = gr.Interface(\n",
    "    fn=predict_image,\n",
    "    inputs=[\n",
    "        gr.Image(label=\"Upload Image\"),\n",
    "        gr.Slider(minimum=0, maximum=1, value=0.25, label=\"Confidence threshold\"),\n",
    "    ],\n",
    "    outputs=gr.Image(label=\"Result\"),\n",
    ")\n",
    "\n",
    "video_iface = gr.Interface(\n",
    "    fn=predict_video,\n",
    "    inputs=[\n",
    "        gr.Video(label = \"Upload Video\"), \n",
    "        gr.Slider(minimum=0, maximum=1, value=0.25, label=\"Confidence threshold\"),\n",
    "    ],\n",
    "    outputs=gr.Video(label=\"Result\"),\n",
    ")\n",
    "\n",
    "demo = gr.TabbedInterface([image_iface, video_iface], [\"Image\", \"Video\"])"
   ]
  },
  {
   "cell_type": "code",
   "execution_count": 13,
   "metadata": {
    "tags": []
   },
   "outputs": [
    {
     "name": "stdout",
     "output_type": "stream",
     "text": [
      "Running on local URL:  http://127.0.0.1:7860\n",
      "\n",
      "To create a public link, set `share=True` in `launch()`.\n"
     ]
    },
    {
     "data": {
      "text/html": [
       "<div><iframe src=\"http://127.0.0.1:7860/\" width=\"100%\" height=\"500\" allow=\"autoplay; camera; microphone; clipboard-read; clipboard-write;\" frameborder=\"0\" allowfullscreen></iframe></div>"
      ],
      "text/plain": [
       "<IPython.core.display.HTML object>"
      ]
     },
     "metadata": {},
     "output_type": "display_data"
    }
   ],
   "source": [
    "colors_dict = create_colors(labels)\n",
    "\n",
    "if __name__ == '__main__':\n",
    "    demo.launch()"
   ]
  },
  {
   "cell_type": "code",
   "execution_count": null,
   "metadata": {},
   "outputs": [],
   "source": []
  }
 ],
 "metadata": {
  "accelerator": "GPU",
  "colab": {
   "provenance": []
  },
  "gpuClass": "standard",
  "kernelspec": {
   "display_name": "Python 3 (ipykernel)",
   "language": "python",
   "name": "python3"
  },
  "language_info": {
   "codemirror_mode": {
    "name": "ipython",
    "version": 3
   },
   "file_extension": ".py",
   "mimetype": "text/x-python",
   "name": "python",
   "nbconvert_exporter": "python",
   "pygments_lexer": "ipython3",
   "version": "3.11.7"
  }
 },
 "nbformat": 4,
 "nbformat_minor": 4
}
